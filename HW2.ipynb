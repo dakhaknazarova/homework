{
 "cells": [
  {
   "cell_type": "code",
   "execution_count": 2,
   "metadata": {},
   "outputs": [],
   "source": [
    "poem = \"\"\"Удивительная кошка\n",
    "\n",
    "Несчастная кошка порезала лапу- \n",
    "Сидит, и ни шагу не может ступить.\n",
    "Скорей, чтобы вылечить кошкину лапу\n",
    "Воздушные шарики надо купить!\n",
    "\n",
    "И сразу столпился народ на дороге-\n",
    "Шумит, и кричит, и на кошку глядит.\n",
    "А кошка отчасти идет по дороге,\n",
    "Отчасти по воздуху плавно летит!\"\"\""
   ]
  },
  {
   "cell_type": "code",
   "execution_count": 3,
   "metadata": {},
   "outputs": [
    {
     "name": "stdout",
     "output_type": "stream",
     "text": [
      "290\n"
     ]
    }
   ],
   "source": [
    "print(len(poem))"
   ]
  },
  {
   "cell_type": "code",
   "execution_count": 4,
   "metadata": {},
   "outputs": [
    {
     "name": "stdout",
     "output_type": "stream",
     "text": [
      "['Удивительная', 'кошка', 'Несчастная', 'кошка', 'порезала', 'лапу', 'Сидит', 'и', 'ни', 'шагу', 'не', 'может', 'ступить', 'Скорей', 'чтобы', 'вылечить', 'кошкину', 'лапу', 'Воздушные', 'шарики', 'надо', 'купить', 'И', 'сразу', 'столпился', 'народ', 'на', 'дороге', 'Шумит', 'и', 'кричит', 'и', 'на', 'кошку', 'глядит', 'А', 'кошка', 'отчасти', 'идет', 'по', 'дороге', 'Отчасти', 'по', 'воздуху', 'плавно', 'летит']\n"
     ]
    }
   ],
   "source": [
    "words = []\n",
    "\n",
    "for word in poem.split():\n",
    "    words.append(word.strip(\"!?.,-\"))\n",
    "    \n",
    "print(words)"
   ]
  },
  {
   "cell_type": "code",
   "execution_count": 8,
   "metadata": {
    "scrolled": true
   },
   "outputs": [
    {
     "name": "stdout",
     "output_type": "stream",
     "text": [
      "Удивительная кошка Несчастная кошка порезала лапу Сидит и ни шагу не может ступить Скорей чтобы вылечить кошкину лапу Воздушные шарики надо купить И сразу столпился народ на дороге Шумит и кричит и на кошку глядит А кошка отчасти идет по дороге Отчасти по воздуху плавно летит\n"
     ]
    }
   ],
   "source": [
    "words2 = ' '.join(words)\n",
    "print(words2)"
   ]
  },
  {
   "cell_type": "code",
   "execution_count": 13,
   "metadata": {},
   "outputs": [
    {
     "name": "stdout",
     "output_type": "stream",
     "text": [
      "['кошка', 'кошка', 'порезала', 'лапу', 'и', 'ни', 'шагу', 'не', 'может', 'ступить', 'чтобы', 'вылечить', 'кошкину', 'лапу', 'шарики', 'надо', 'купить', 'сразу', 'столпился', 'народ', 'на', 'дороге', 'и', 'кричит', 'и', 'на', 'кошку', 'глядит', 'кошка', 'отчасти', 'идет', 'по', 'дороге', 'по', 'воздуху', 'плавно', 'летит']\n",
      "Удивительная кошка Несчастная кошка порезала лапу Сидит и ни шагу не может ступить Скорей чтобы вылечить кошкину лапу Воздушные шарики надо купить И сразу столпился народ на дороге Шумит и кричит и на кошку глядит А кошка отчасти идет по дороге Отчасти по воздуху плавно летит\n"
     ]
    }
   ],
   "source": [
    "print([w for w in words2.split() if w.islower()]) \n",
    "\n",
    "print(words2)"
   ]
  },
  {
   "cell_type": "code",
   "execution_count": 16,
   "metadata": {},
   "outputs": [
    {
     "name": "stdout",
     "output_type": "stream",
     "text": [
      "удивительная кошка несчастная кошка порезала лапу сидит и ни шагу не может ступить скорей чтобы вылечить кошкину лапу воздушные шарики надо купить и сразу столпился народ на дороге шумит и кричит и на кошку глядит а кошка отчасти идет по дороге отчасти по воздуху плавно летит\n"
     ]
    }
   ],
   "source": [
    "print(words2.lower())"
   ]
  },
  {
   "cell_type": "code",
   "execution_count": 23,
   "metadata": {},
   "outputs": [
    {
     "name": "stdout",
     "output_type": "stream",
     "text": [
      "['удивительная кошка несчастная кошка порезала лапу сидит и ни шагу не может ступить скорей чтобы вылечить кошкину лапу воздушные шарики надо купить и сразу столпился народ на дороге шумит и кричит и на кошку глядит а кошка отчасти идет по дороге отчасти по воздуху плавно летит']\n"
     ]
    }
   ],
   "source": [
    "s = [words2.lower()] \n",
    "print(s)"
   ]
  },
  {
   "cell_type": "code",
   "execution_count": 26,
   "metadata": {},
   "outputs": [
    {
     "name": "stdout",
     "output_type": "stream",
     "text": [
      "46\n"
     ]
    }
   ],
   "source": [
    "words = words2.split()\n",
    "print(len(words))"
   ]
  },
  {
   "cell_type": "code",
   "execution_count": 27,
   "metadata": {},
   "outputs": [
    {
     "name": "stdout",
     "output_type": "stream",
     "text": [
      "38\n"
     ]
    }
   ],
   "source": [
    "words_set = set(words)\n",
    "print(len(words_set))"
   ]
  },
  {
   "cell_type": "code",
   "execution_count": null,
   "metadata": {},
   "outputs": [],
   "source": []
  }
 ],
 "metadata": {
  "kernelspec": {
   "display_name": "Python 3",
   "language": "python",
   "name": "python3"
  },
  "language_info": {
   "codemirror_mode": {
    "name": "ipython",
    "version": 3
   },
   "file_extension": ".py",
   "mimetype": "text/x-python",
   "name": "python",
   "nbconvert_exporter": "python",
   "pygments_lexer": "ipython3",
   "version": "3.7.0"
  }
 },
 "nbformat": 4,
 "nbformat_minor": 2
}
