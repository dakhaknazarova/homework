{
 "cells": [
  {
   "cell_type": "markdown",
   "metadata": {},
   "source": [
    "### Задание 1\n"
   ]
  },
  {
   "cell_type": "code",
   "execution_count": 4,
   "metadata": {},
   "outputs": [
    {
     "name": "stdout",
     "output_type": "stream",
     "text": [
      "варкалось хливкие\n",
      "хливкие шорьки\n",
      "шорьки пырялись\n",
      "пырялись по\n",
      "по наве\n",
      "наве и\n",
      "и хрюкотали\n",
      "хрюкотали зелюки\n",
      "зелюки как\n",
      "как мюмзики\n",
      "мюмзики в\n",
      "в мове\n",
      "мове о\n",
      "о бойся\n",
      "бойся бармаглота\n",
      "бармаглота сын\n",
      "сын он\n",
      "он так\n",
      "так свирлеп\n",
      "свирлеп и\n",
      "и дик\n",
      "дик а\n",
      "а в\n",
      "в глyще\n",
      "глyще рымит\n",
      "рымит исполин\n",
      "исполин злопастный\n",
      "злопастный брандашмыг\n"
     ]
    }
   ],
   "source": [
    "t = 'варкалось хливкие шорьки пырялись по наве и хрюкотали зелюки как мюмзики в мове о бойся бармаглота сын он так свирлеп и дик а в глyще рымит исполин злопастный брандашмыг' \n",
    "words = t.split()\n",
    "bigrams = []\n",
    "\n",
    "for i in range(1, len(words)):\n",
    "    bigram = words[i-1] + ' ' + words[i]\n",
    "    print(bigram) \n",
    "    bigrams.append(bigram)"
   ]
  },
  {
   "cell_type": "markdown",
   "metadata": {},
   "source": [
    "### Задание 2"
   ]
  },
  {
   "cell_type": "code",
   "execution_count": 6,
   "metadata": {},
   "outputs": [
    {
     "name": "stdout",
     "output_type": "stream",
     "text": [
      "текущая директория: C:\\Users\\Дина\\Desktop\\python-dh-hw\n"
     ]
    }
   ],
   "source": [
    "import os  \n",
    "print('текущая директория:', os.getcwd())"
   ]
  },
  {
   "cell_type": "code",
   "execution_count": 16,
   "metadata": {
    "scrolled": true
   },
   "outputs": [
    {
     "name": "stdout",
     "output_type": "stream",
     "text": [
      "папки ['котики', 'сказки'] 2\n",
      "файл: C:/Users/Дина/Desktop/python-dh-hw/poems\\боль.txt\n",
      "файл: C:/Users/Дина/Desktop/python-dh-hw/poems\\ворон.txt\n",
      "файл: C:/Users/Дина/Desktop/python-dh-hw/poems\\деды.txt\n",
      "файл: C:/Users/Дина/Desktop/python-dh-hw/poems\\кладь.txt\n",
      "файл: C:/Users/Дина/Desktop/python-dh-hw/poems\\ночь.txt\n",
      "файл: C:/Users/Дина/Desktop/python-dh-hw/poems\\шредингер.txt\n",
      "файл: C:/Users/Дина/Desktop/python-dh-hw/poems\\котики\\кот.txt\n",
      "файл: C:/Users/Дина/Desktop/python-dh-hw/poems\\котики\\лео.txt\n",
      "файл: C:/Users/Дина/Desktop/python-dh-hw/poems\\котики\\пушок.txt\n",
      "файл: C:/Users/Дина/Desktop/python-dh-hw/poems\\сказки\\гримм.txt\n",
      "файл: C:/Users/Дина/Desktop/python-dh-hw/poems\\сказки\\королевич.txt\n",
      "файл: C:/Users/Дина/Desktop/python-dh-hw/poems\\сказки\\король.txt\n",
      "файл: C:/Users/Дина/Desktop/python-dh-hw/poems\\сказки\\крестная.txt\n",
      "файл: C:/Users/Дина/Desktop/python-dh-hw/poems\\сказки\\яга.txt\n",
      "Количество файлов: 14\n"
     ]
    }
   ],
   "source": [
    "n = 0\n",
    "\n",
    "all_files = []\n",
    "\n",
    "for root, dirs, files in os.walk('C:/Users/Дина/Desktop/python-dh-hw/poems'):\n",
    "    if len(dirs) != 0:\n",
    "        print ('папки', dirs)\n",
    "    for name in files:\n",
    "        full_name = os.path.join(root, name)\n",
    "        all_files.append(full_name)\n",
    "        print('файл:', full_name)\n",
    "        n += 1\n",
    "        \n",
    "print ('Количество файлов:', n)"
   ]
  },
  {
   "cell_type": "code",
   "execution_count": 17,
   "metadata": {},
   "outputs": [],
   "source": [
    "for full_name in all_files:\n",
    "    with open(full_name, 'r') as f:\n",
    "        poem = f.read()\n",
    "    \n",
    "    with open('all_poems.txt', 'a') as f:\n",
    "        f.write(poem + '\\n')"
   ]
  },
  {
   "cell_type": "markdown",
   "metadata": {},
   "source": [
    "### Задание 3"
   ]
  },
  {
   "cell_type": "code",
   "execution_count": 1,
   "metadata": {},
   "outputs": [],
   "source": [
    "poem = \"\"\"Удивительная кошка\n",
    "\n",
    "Несчастная кошка порезала лапу- \n",
    "Сидит, и ни шагу не может ступить.\n",
    "Скорей, чтобы вылечить кошкину лапу\n",
    "Воздушные шарики надо купить!\n",
    "\n",
    "И сразу столпился народ на дороге-\n",
    "Шумит, и кричит, и на кошку глядит.\n",
    "А кошка отчасти идет по дороге,\n",
    "Отчасти по воздуху плавно летит!\"\"\""
   ]
  },
  {
   "cell_type": "code",
   "execution_count": 2,
   "metadata": {},
   "outputs": [
    {
     "name": "stdout",
     "output_type": "stream",
     "text": [
      "290\n"
     ]
    }
   ],
   "source": [
    "print(len(poem))"
   ]
  },
  {
   "cell_type": "code",
   "execution_count": 3,
   "metadata": {},
   "outputs": [
    {
     "name": "stdout",
     "output_type": "stream",
     "text": [
      "['Удивительная', 'кошка', 'Несчастная', 'кошка', 'порезала', 'лапу', 'Сидит', 'и', 'ни', 'шагу', 'не', 'может', 'ступить', 'Скорей', 'чтобы', 'вылечить', 'кошкину', 'лапу', 'Воздушные', 'шарики', 'надо', 'купить', 'И', 'сразу', 'столпился', 'народ', 'на', 'дороге', 'Шумит', 'и', 'кричит', 'и', 'на', 'кошку', 'глядит', 'А', 'кошка', 'отчасти', 'идет', 'по', 'дороге', 'Отчасти', 'по', 'воздуху', 'плавно', 'летит']\n"
     ]
    }
   ],
   "source": [
    "words = []\n",
    "\n",
    "for word in poem.split():\n",
    "    words.append(word.strip(\"!?.,-\"))\n",
    "    \n",
    "print(words)"
   ]
  },
  {
   "cell_type": "code",
   "execution_count": 4,
   "metadata": {
    "scrolled": true
   },
   "outputs": [
    {
     "name": "stdout",
     "output_type": "stream",
     "text": [
      "Удивительная кошка Несчастная кошка порезала лапу Сидит и ни шагу не может ступить Скорей чтобы вылечить кошкину лапу Воздушные шарики надо купить И сразу столпился народ на дороге Шумит и кричит и на кошку глядит А кошка отчасти идет по дороге Отчасти по воздуху плавно летит\n"
     ]
    }
   ],
   "source": [
    "words2 = ' '.join(words)\n",
    "print(words2)"
   ]
  },
  {
   "cell_type": "code",
   "execution_count": 5,
   "metadata": {},
   "outputs": [
    {
     "name": "stdout",
     "output_type": "stream",
     "text": [
      "['кошка', 'кошка', 'порезала', 'лапу', 'и', 'ни', 'шагу', 'не', 'может', 'ступить', 'чтобы', 'вылечить', 'кошкину', 'лапу', 'шарики', 'надо', 'купить', 'сразу', 'столпился', 'народ', 'на', 'дороге', 'и', 'кричит', 'и', 'на', 'кошку', 'глядит', 'кошка', 'отчасти', 'идет', 'по', 'дороге', 'по', 'воздуху', 'плавно', 'летит']\n",
      "Удивительная кошка Несчастная кошка порезала лапу Сидит и ни шагу не может ступить Скорей чтобы вылечить кошкину лапу Воздушные шарики надо купить И сразу столпился народ на дороге Шумит и кричит и на кошку глядит А кошка отчасти идет по дороге Отчасти по воздуху плавно летит\n"
     ]
    }
   ],
   "source": [
    "print([w for w in words2.split() if w.islower()]) \n",
    "\n",
    "print(words2)"
   ]
  },
  {
   "cell_type": "code",
   "execution_count": 6,
   "metadata": {},
   "outputs": [
    {
     "name": "stdout",
     "output_type": "stream",
     "text": [
      "удивительная кошка несчастная кошка порезала лапу сидит и ни шагу не может ступить скорей чтобы вылечить кошкину лапу воздушные шарики надо купить и сразу столпился народ на дороге шумит и кричит и на кошку глядит а кошка отчасти идет по дороге отчасти по воздуху плавно летит\n"
     ]
    }
   ],
   "source": [
    "print(words2.lower())"
   ]
  },
  {
   "cell_type": "code",
   "execution_count": 10,
   "metadata": {},
   "outputs": [
    {
     "name": "stdout",
     "output_type": "stream",
     "text": [
      "['удивительная кошка несчастная кошка порезала лапу сидит и ни шагу не может ступить скорей чтобы вылечить кошкину лапу воздушные шарики надо купить и сразу столпился народ на дороге шумит и кричит и на кошку глядит а кошка отчасти идет по дороге отчасти по воздуху плавно летит']\n"
     ]
    }
   ],
   "source": [
    "s = [words2.lower()] \n",
    "print(s)"
   ]
  },
  {
   "cell_type": "code",
   "execution_count": 11,
   "metadata": {},
   "outputs": [
    {
     "name": "stdout",
     "output_type": "stream",
     "text": [
      "46\n"
     ]
    }
   ],
   "source": [
    "words = words2.split()\n",
    "print(len(words))"
   ]
  },
  {
   "cell_type": "code",
   "execution_count": 12,
   "metadata": {},
   "outputs": [
    {
     "name": "stdout",
     "output_type": "stream",
     "text": [
      "38\n"
     ]
    }
   ],
   "source": [
    "words_set = set(words)\n",
    "print(len(words_set))"
   ]
  },
  {
   "cell_type": "code",
   "execution_count": 13,
   "metadata": {},
   "outputs": [
    {
     "name": "stdout",
     "output_type": "stream",
     "text": [
      "['кошка', 'отчасти', 'идет', 'по', 'дороге', 'Отчасти', 'по', 'воздуху', 'плавно', 'летит']\n"
     ]
    }
   ],
   "source": [
    "print(words[len(words)-10:len(words):])"
   ]
  },
  {
   "cell_type": "code",
   "execution_count": 21,
   "metadata": {},
   "outputs": [
    {
     "name": "stdout",
     "output_type": "stream",
     "text": [
      "удивительная\n",
      "кошка\n",
      "несчастная\n",
      "кошка\n",
      "порезала\n",
      "лапу\n",
      "сидит\n",
      "и\n",
      "ни\n",
      "шагу\n",
      "не\n",
      "может\n",
      "ступить\n",
      "скорей\n",
      "чтобы\n",
      "вылечить\n",
      "кошкину\n",
      "лапу\n",
      "воздушные\n",
      "шарики\n",
      "надо\n",
      "купить\n",
      "и\n",
      "сразу\n",
      "столпился\n",
      "народ\n",
      "на\n",
      "дороге\n",
      "шумит\n",
      "и\n",
      "кричит\n",
      "и\n",
      "на\n",
      "кошку\n",
      "глядит\n",
      "а\n",
      "кошка\n",
      "отчасти\n",
      "идет\n",
      "по\n",
      "дороге\n",
      "отчасти\n",
      "по\n",
      "воздуху\n",
      "плавно\n",
      "летит\n"
     ]
    }
   ],
   "source": [
    "words2 = '\\n'.join(s[0].split())\n",
    "print(words2)"
   ]
  },
  {
   "cell_type": "code",
   "execution_count": 15,
   "metadata": {},
   "outputs": [
    {
     "name": "stdout",
     "output_type": "stream",
     "text": [
      "Несчастная\n"
     ]
    }
   ],
   "source": [
    "print(words2[19:29])"
   ]
  },
  {
   "cell_type": "code",
   "execution_count": 16,
   "metadata": {},
   "outputs": [
    {
     "name": "stdout",
     "output_type": "stream",
     "text": [
      "('Удивительная', 'кошка', 'Несчастная', 'кошка', 'порезала', 'лапу', 'Сидит', 'и', 'ни', 'шагу', 'не', 'может', 'ступить', 'Скорей', 'чтобы', 'вылечить', 'кошкину', 'лапу', 'Воздушные', 'шарики', 'надо', 'купить', 'И', 'сразу', 'столпился', 'народ', 'на', 'дороге', 'Шумит', 'и', 'кричит', 'и', 'на', 'кошку', 'глядит', 'А', 'кошка', 'отчасти', 'идет', 'по', 'дороге', 'Отчасти', 'по', 'воздуху', 'плавно', 'летит')\n"
     ]
    }
   ],
   "source": [
    "words = tuple(words)\n",
    "print(words)"
   ]
  },
  {
   "cell_type": "code",
   "execution_count": 57,
   "metadata": {},
   "outputs": [
    {
     "name": "stdout",
     "output_type": "stream",
     "text": [
      "('удивительная кошка',) 1\n",
      "('кошка несчастная',) 1\n",
      "('несчастная кошка',) 1\n",
      "('кошка порезала',) 1\n",
      "('порезала лапу',) 1\n",
      "('лапу сидит',) 1\n",
      "('сидит и',) 1\n",
      "('и ни',) 1\n",
      "('ни шагу',) 1\n",
      "('шагу не',) 1\n",
      "('не может',) 1\n",
      "('может ступить',) 1\n",
      "('ступить скорей',) 1\n",
      "('скорей чтобы',) 1\n",
      "('чтобы вылечить',) 1\n",
      "('вылечить кошкину',) 1\n",
      "('кошкину лапу',) 1\n",
      "('лапу воздушные',) 1\n",
      "('воздушные шарики',) 1\n",
      "('шарики надо',) 1\n",
      "('надо купить',) 1\n",
      "('купить и',) 1\n",
      "('и сразу',) 1\n",
      "('сразу столпился',) 1\n",
      "('столпился народ',) 1\n",
      "('народ на',) 1\n",
      "('на дороге',) 1\n",
      "('дороге шумит',) 1\n",
      "('шумит и',) 1\n",
      "('и кричит',) 1\n",
      "('кричит и',) 1\n",
      "('и на',) 1\n",
      "('на кошку',) 1\n",
      "('кошку глядит',) 1\n",
      "('глядит а',) 1\n",
      "('а кошка',) 1\n",
      "('кошка отчасти',) 1\n",
      "('отчасти идет',) 1\n",
      "('идет по',) 1\n",
      "('по дороге',) 1\n",
      "('дороге отчасти',) 1\n",
      "('отчасти по',) 1\n",
      "('по воздуху',) 1\n",
      "('воздуху плавно',) 1\n",
      "('плавно летит',) 1\n"
     ]
    }
   ],
   "source": [
    "from collections import Counter\n",
    "l = s[0].split() \n",
    "a = []\n",
    "\n",
    "for i in range(1, len(l)):\n",
    "    b = [l[i-1] + ' ' + l[i]]\n",
    "    a.append(tuple(b))\n",
    "freq = Counter (a)\n",
    "val = list(freq.values())\n",
    "data = list(freq)\n",
    "for i in range(len(data)):\n",
    "    print(data[i], val[i])\n"
   ]
  }
 ],
 "metadata": {
  "kernelspec": {
   "display_name": "Python 3",
   "language": "python",
   "name": "python3"
  },
  "language_info": {
   "codemirror_mode": {
    "name": "ipython",
    "version": 3
   },
   "file_extension": ".py",
   "mimetype": "text/x-python",
   "name": "python",
   "nbconvert_exporter": "python",
   "pygments_lexer": "ipython3",
   "version": "3.7.0"
  }
 },
 "nbformat": 4,
 "nbformat_minor": 2
}
