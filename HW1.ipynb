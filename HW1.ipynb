{
 "cells": [
  {
   "cell_type": "markdown",
   "metadata": {},
   "source": [
    "### Задание 1"
   ]
  },
  {
   "cell_type": "code",
   "execution_count": 2,
   "metadata": {},
   "outputs": [
    {
     "name": "stdout",
     "output_type": "stream",
     "text": [
      "7\n",
      "    _~_        _~_        _~_        _~_        _~_        _~_        _~_    \n",
      "   (o o)      (o o)      (o o)      (o o)      (o o)      (o o)      (o o)   \n",
      "  /  V  \\    /  V  \\    /  V  \\    /  V  \\    /  V  \\    /  V  \\    /  V  \\  \n",
      " /(  _  )\\  /(  _  )\\  /(  _  )\\  /(  _  )\\  /(  _  )\\  /(  _  )\\  /(  _  )\\ \n",
      "   ^^ ^^      ^^ ^^      ^^ ^^      ^^ ^^      ^^ ^^      ^^ ^^      ^^ ^^   \n"
     ]
    }
   ],
   "source": [
    "v = int(input()) \n",
    "a = '    _~_    '      \n",
    "b = '   (o o)   '     \n",
    "c = '  /  V  \\  '    \n",
    "d = ' /(  _  )\\ ' \n",
    "e = '   ^^ ^^   '    \n",
    "\n",
    "print(a*v)\n",
    "print(b*v)\n",
    "print(c*v)\n",
    "print(d*v)\n",
    "print(e*v) \n"
   ]
  },
  {
   "cell_type": "markdown",
   "metadata": {},
   "source": [
    "### Задание 2"
   ]
  },
  {
   "cell_type": "code",
   "execution_count": 9,
   "metadata": {},
   "outputs": [
    {
     "name": "stdout",
     "output_type": "stream",
     "text": [
      "Количество символов: 15\n",
      "Количество слов: 4\n"
     ]
    }
   ],
   "source": [
    "sentence = \"My name is Dina\"\n",
    "print(\"Количество символов:\", len(sentence)) \n",
    "\n",
    "words = sentence.split()\n",
    "print(\"Количество слов:\", len(words))"
   ]
  },
  {
   "cell_type": "markdown",
   "metadata": {},
   "source": [
    "### Задание 3"
   ]
  },
  {
   "cell_type": "code",
   "execution_count": 35,
   "metadata": {
    "scrolled": true
   },
   "outputs": [
    {
     "name": "stdout",
     "output_type": "stream",
     "text": [
      "w\n",
      "i\n",
      "I was\n",
      "I was inspired by h\n",
      "Iwsisie yhm\n",
      " a nprdb i\n",
      "mih yb deripsni saw I\n",
      "mhy eisiswI\n",
      "21\n"
     ]
    }
   ],
   "source": [
    "S = \"I was inspired by him\" \n",
    "print(S[2])\n",
    "print(S[19]) \n",
    "print(S[0:5]) \n",
    "print(S[:-2])\n",
    "print(S[::2])\n",
    "print(S[1::2])\n",
    "print(S[::-1]) \n",
    "print(S[::-2])\n",
    "print(len(S))"
   ]
  },
  {
   "cell_type": "markdown",
   "metadata": {},
   "source": [
    "### Задание 4"
   ]
  },
  {
   "cell_type": "code",
   "execution_count": 7,
   "metadata": {},
   "outputs": [
    {
     "name": "stdout",
     "output_type": "stream",
     "text": [
      "Enter the first word:\n",
      "sos\n",
      "YES\n",
      "Enter the second word:\n",
      "summer\n",
      "NO\n"
     ]
    }
   ],
   "source": [
    "a = input(\"Enter the first word:\\n\")  \n",
    "if a == (a[::-1]):\n",
    "    print (\"YES\")  \n",
    "else: \n",
    "    print (\"NO\")\n",
    "\n",
    "b = input(\"Enter the second word:\\n\")  \n",
    "if b == (b[::-1]):\n",
    "    print (\"YES\")  \n",
    "else: \n",
    "    print (\"NO\")\n"
   ]
  },
  {
   "cell_type": "markdown",
   "metadata": {},
   "source": [
    "### Задание 5"
   ]
  },
  {
   "cell_type": "code",
   "execution_count": 10,
   "metadata": {},
   "outputs": [
    {
     "name": "stdout",
     "output_type": "stream",
     "text": [
      "Enter a word\n",
      "программа\n",
      "A word \"программа\" was added\n"
     ]
    }
   ],
   "source": [
    "d = \"\"\"законы физики рядом с черной дырой уже не работают в том представлении в котором мы привыкли \n",
    "пространство время искривляется и все события протекают уже совсем по другому \n",
    "словно пылесос черная дыра поглощает все что находится около нее планеты астероиды свет и прочее \n",
    "ранее считалось что черная дыра ничего не излучает но как доказал стивен хокинг черная дыра излучает антивещество \n",
    "то есть поедает вещество и выделяет антивещество \n",
    "ранее думали что если кинуть в черную дыру человека то ему труба порвет на субатомы \n",
    "но как оказалось по некоторым уравнениям есть определенные траектории путешествия сквозь черную дыру чтоб чувствовать себя нормально \n",
    "правда не ясно что будет за ней другой мир или ничего \n",
    "область вокруг черной дыры которая интересна называется горизонтом событий \n",
    "если туда полететь не зная волшебное уравнение то будет конечно не очень \n",
    "наблюдатель будет видеть как космический корабль влетает в горизонт событий и крайне медленно потом отдаляется пока не застынет в центре\n",
    "у самого же космонавта дела будут идти совсем по другому \n",
    "искривленное пространство будет лепить из него как из пластилина различные формы пока наконец не разорвет все на субатомы \n",
    "но для внешнего наблюдателя космонавт навсегда останется улыбающимся и махающим в иллюминатор застывшим изображением\"\"\" \n",
    "\n",
    "c = d.split() \n",
    "\n",
    "e = input (\"Enter a word\\n\") \n",
    "if e not in c: \n",
    "    c.append(e) \n",
    "    print (\"A word \\\"%s\\\" was added\" %(e)) \n",
    "else: \n",
    "    print(c.count(e)) \n"
   ]
  }
 ],
 "metadata": {
  "kernelspec": {
   "display_name": "Python 3",
   "language": "python",
   "name": "python3"
  },
  "language_info": {
   "codemirror_mode": {
    "name": "ipython",
    "version": 3
   },
   "file_extension": ".py",
   "mimetype": "text/x-python",
   "name": "python",
   "nbconvert_exporter": "python",
   "pygments_lexer": "ipython3",
   "version": "3.7.0"
  }
 },
 "nbformat": 4,
 "nbformat_minor": 2
}
