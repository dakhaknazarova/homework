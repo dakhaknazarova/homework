{
 "cells": [
  {
   "cell_type": "code",
   "execution_count": 2,
   "metadata": {},
   "outputs": [
    {
     "name": "stdout",
     "output_type": "stream",
     "text": [
      "7\n",
      "    _~_        _~_        _~_        _~_        _~_        _~_        _~_    \n",
      "   (o o)      (o o)      (o o)      (o o)      (o o)      (o o)      (o o)   \n",
      "  /  V  \\    /  V  \\    /  V  \\    /  V  \\    /  V  \\    /  V  \\    /  V  \\  \n",
      " /(  _  )\\  /(  _  )\\  /(  _  )\\  /(  _  )\\  /(  _  )\\  /(  _  )\\  /(  _  )\\ \n",
      "   ^^ ^^      ^^ ^^      ^^ ^^      ^^ ^^      ^^ ^^      ^^ ^^      ^^ ^^   \n"
     ]
    }
   ],
   "source": [
    "v = int(input()) \n",
    "a = '    _~_    '      \n",
    "b = '   (o o)   '     \n",
    "c = '  /  V  \\  '    \n",
    "d = ' /(  _  )\\ ' \n",
    "e = '   ^^ ^^   '    \n",
    "\n",
    "print(a*v)\n",
    "print(b*v)\n",
    "print(c*v)\n",
    "print(d*v)\n",
    "print(e*v) \n"
   ]
  },
  {
   "cell_type": "code",
   "execution_count": 9,
   "metadata": {},
   "outputs": [
    {
     "name": "stdout",
     "output_type": "stream",
     "text": [
      "Количество символов: 15\n",
      "Количество слов: 4\n"
     ]
    }
   ],
   "source": [
    "sentence = \"My name is Dina\"\n",
    "print(\"Количество символов:\", len(sentence)) \n",
    "\n",
    "words = sentence.split()\n",
    "print(\"Количество слов:\", len(words))"
   ]
  },
  {
   "cell_type": "code",
   "execution_count": 35,
   "metadata": {
    "scrolled": true
   },
   "outputs": [
    {
     "name": "stdout",
     "output_type": "stream",
     "text": [
      "w\n",
      "i\n",
      "I was\n",
      "I was inspired by h\n",
      "Iwsisie yhm\n",
      " a nprdb i\n",
      "mih yb deripsni saw I\n",
      "mhy eisiswI\n",
      "21\n"
     ]
    }
   ],
   "source": [
    "S = \"I was inspired by him\" \n",
    "print(S[2])\n",
    "print(S[19]) \n",
    "print(S[0:5]) \n",
    "print(S[:-2])\n",
    "print(S[::2])\n",
    "print(S[1::2])\n",
    "print(S[::-1]) \n",
    "print(S[::-2])\n",
    "print(len(S))"
   ]
  },
  {
   "cell_type": "code",
   "execution_count": 7,
   "metadata": {},
   "outputs": [
    {
     "name": "stdout",
     "output_type": "stream",
     "text": [
      "Enter the first word:\n",
      "sos\n",
      "YES\n",
      "Enter the second word:\n",
      "summer\n",
      "NO\n"
     ]
    }
   ],
   "source": [
    "a = input(\"Enter the first word:\\n\")  \n",
    "if (a[0:]) == (a[::-1]):\n",
    "    print (\"YES\")  \n",
    "else: \n",
    "    print (\"NO\")\n",
    "\n",
    "b = input(\"Enter the second word:\\n\")  \n",
    "if (b[0:]) == (b[::-1]):\n",
    "    print (\"YES\")  \n",
    "else: \n",
    "    print (\"NO\")\n"
   ]
  },
  {
   "cell_type": "code",
   "execution_count": null,
   "metadata": {},
   "outputs": [],
   "source": []
  }
 ],
 "metadata": {
  "kernelspec": {
   "display_name": "Python 3",
   "language": "python",
   "name": "python3"
  },
  "language_info": {
   "codemirror_mode": {
    "name": "ipython",
    "version": 3
   },
   "file_extension": ".py",
   "mimetype": "text/x-python",
   "name": "python",
   "nbconvert_exporter": "python",
   "pygments_lexer": "ipython3",
   "version": "3.7.0"
  }
 },
 "nbformat": 4,
 "nbformat_minor": 2
}
