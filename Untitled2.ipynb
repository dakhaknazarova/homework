{
 "cells": [
  {
   "cell_type": "code",
   "execution_count": 8,
   "metadata": {},
   "outputs": [
    {
     "name": "stdout",
     "output_type": "stream",
     "text": [
      "C:\\Users\\Дина\\Desktop\\python-dh-hw\n"
     ]
    }
   ],
   "source": [
    "import os  \n",
    "n = 0\n",
    "\n",
    "print(os.getcwd())"
   ]
  },
  {
   "cell_type": "code",
   "execution_count": 9,
   "metadata": {},
   "outputs": [
    {
     "name": "stdout",
     "output_type": "stream",
     "text": [
      "C:/Users/Дина/Desktop/python-dh-hw/т\\poems\\боль.txt\n",
      "C:/Users/Дина/Desktop/python-dh-hw/т\\poems\\ворон.txt\n",
      "C:/Users/Дина/Desktop/python-dh-hw/т\\poems\\деды.txt\n",
      "C:/Users/Дина/Desktop/python-dh-hw/т\\poems\\кладь.txt\n",
      "C:/Users/Дина/Desktop/python-dh-hw/т\\poems\\ночь.txt\n",
      "C:/Users/Дина/Desktop/python-dh-hw/т\\poems\\шредингер.txt\n",
      "C:/Users/Дина/Desktop/python-dh-hw/т\\poems\\котики\\кот.txt\n",
      "C:/Users/Дина/Desktop/python-dh-hw/т\\poems\\котики\\лео.txt\n",
      "C:/Users/Дина/Desktop/python-dh-hw/т\\poems\\котики\\пушок.txt\n",
      "C:/Users/Дина/Desktop/python-dh-hw/т\\poems\\сказки\\гримм.txt\n",
      "C:/Users/Дина/Desktop/python-dh-hw/т\\poems\\сказки\\королевич.txt\n",
      "C:/Users/Дина/Desktop/python-dh-hw/т\\poems\\сказки\\король.txt\n",
      "C:/Users/Дина/Desktop/python-dh-hw/т\\poems\\сказки\\крестная.txt\n",
      "C:/Users/Дина/Desktop/python-dh-hw/т\\poems\\сказки\\яга.txt\n",
      "14\n"
     ]
    }
   ],
   "source": [
    "for root, dirs, files in os.walk('C:/Users/Дина/Desktop/python-dh-hw/т'):\n",
    "#     print(root)\n",
    "#     print(dirs)\n",
    "    for name in files:\n",
    "        fullname = os.path.join(root, name)\n",
    "        print(fullname) \n",
    "        n+= 1 \n",
    "    \n",
    "print (n)"
   ]
  },
  {
   "cell_type": "code",
   "execution_count": 14,
   "metadata": {},
   "outputs": [
    {
     "name": "stdout",
     "output_type": "stream",
     "text": [
      "True\n"
     ]
    }
   ],
   "source": [
    "print(os.path.isfile('C:/Users/Дина/Desktop/python-dh-hw/т/poems/сказки/гримм.txt'))"
   ]
  },
  {
   "cell_type": "code",
   "execution_count": null,
   "metadata": {},
   "outputs": [],
   "source": []
  }
 ],
 "metadata": {
  "kernelspec": {
   "display_name": "Python 3",
   "language": "python",
   "name": "python3"
  },
  "language_info": {
   "codemirror_mode": {
    "name": "ipython",
    "version": 3
   },
   "file_extension": ".py",
   "mimetype": "text/x-python",
   "name": "python",
   "nbconvert_exporter": "python",
   "pygments_lexer": "ipython3",
   "version": "3.7.0"
  }
 },
 "nbformat": 4,
 "nbformat_minor": 2
}
